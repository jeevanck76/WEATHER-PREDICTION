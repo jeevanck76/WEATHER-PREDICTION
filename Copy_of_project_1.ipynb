{
  "nbformat": 4,
  "nbformat_minor": 0,
  "metadata": {
    "colab": {
      "name": "Copy of project 1.ipynb",
      "provenance": [],
      "authorship_tag": "ABX9TyPVSbZz5qw+Vjg8iYbiv7CB",
      "include_colab_link": true
    },
    "kernelspec": {
      "name": "python3",
      "display_name": "Python 3"
    },
    "language_info": {
      "name": "python"
    }
  },
  "cells": [
    {
      "cell_type": "markdown",
      "metadata": {
        "id": "view-in-github",
        "colab_type": "text"
      },
      "source": [
        "<a href=\"https://colab.research.google.com/github/jeevanck76/WEATHER-PREDICTION/blob/main/Copy_of_project_1.ipynb\" target=\"_parent\"><img src=\"https://colab.research.google.com/assets/colab-badge.svg\" alt=\"Open In Colab\"/></a>"
      ]
    },
    {
      "cell_type": "code",
      "execution_count": null,
      "metadata": {
        "colab": {
          "base_uri": "https://localhost:8080/",
          "height": 424
        },
        "id": "zDXGiOZFcuee",
        "outputId": "17b169e3-b7b8-4c34-9301-301742a60c36"
      },
      "outputs": [
        {
          "output_type": "execute_result",
          "data": {
            "text/plain": [
              "            date  precipitation  temp_max  temp_min  wind  weather\n",
              "0     2012-01-01            0.0      12.8       5.0   4.7  drizzle\n",
              "1     2012-01-02           10.9      10.6       2.8   4.5     rain\n",
              "2     2012-01-03            0.8      11.7       7.2   2.3     rain\n",
              "3     2012-01-04           20.3      12.2       5.6   4.7     rain\n",
              "4     2012-01-05            1.3       8.9       2.8   6.1     rain\n",
              "...          ...            ...       ...       ...   ...      ...\n",
              "1456  2015-12-27            8.6       4.4       1.7   2.9     rain\n",
              "1457  2015-12-28            1.5       5.0       1.7   1.3     rain\n",
              "1458  2015-12-29            0.0       7.2       0.6   2.6      fog\n",
              "1459  2015-12-30            0.0       5.6      -1.0   3.4      sun\n",
              "1460  2015-12-31            0.0       5.6      -2.1   3.5      sun\n",
              "\n",
              "[1461 rows x 6 columns]"
            ],
            "text/html": [
              "\n",
              "  <div id=\"df-f08bb755-08f2-4772-9cc7-5e822ed2f278\">\n",
              "    <div class=\"colab-df-container\">\n",
              "      <div>\n",
              "<style scoped>\n",
              "    .dataframe tbody tr th:only-of-type {\n",
              "        vertical-align: middle;\n",
              "    }\n",
              "\n",
              "    .dataframe tbody tr th {\n",
              "        vertical-align: top;\n",
              "    }\n",
              "\n",
              "    .dataframe thead th {\n",
              "        text-align: right;\n",
              "    }\n",
              "</style>\n",
              "<table border=\"1\" class=\"dataframe\">\n",
              "  <thead>\n",
              "    <tr style=\"text-align: right;\">\n",
              "      <th></th>\n",
              "      <th>date</th>\n",
              "      <th>precipitation</th>\n",
              "      <th>temp_max</th>\n",
              "      <th>temp_min</th>\n",
              "      <th>wind</th>\n",
              "      <th>weather</th>\n",
              "    </tr>\n",
              "  </thead>\n",
              "  <tbody>\n",
              "    <tr>\n",
              "      <th>0</th>\n",
              "      <td>2012-01-01</td>\n",
              "      <td>0.0</td>\n",
              "      <td>12.8</td>\n",
              "      <td>5.0</td>\n",
              "      <td>4.7</td>\n",
              "      <td>drizzle</td>\n",
              "    </tr>\n",
              "    <tr>\n",
              "      <th>1</th>\n",
              "      <td>2012-01-02</td>\n",
              "      <td>10.9</td>\n",
              "      <td>10.6</td>\n",
              "      <td>2.8</td>\n",
              "      <td>4.5</td>\n",
              "      <td>rain</td>\n",
              "    </tr>\n",
              "    <tr>\n",
              "      <th>2</th>\n",
              "      <td>2012-01-03</td>\n",
              "      <td>0.8</td>\n",
              "      <td>11.7</td>\n",
              "      <td>7.2</td>\n",
              "      <td>2.3</td>\n",
              "      <td>rain</td>\n",
              "    </tr>\n",
              "    <tr>\n",
              "      <th>3</th>\n",
              "      <td>2012-01-04</td>\n",
              "      <td>20.3</td>\n",
              "      <td>12.2</td>\n",
              "      <td>5.6</td>\n",
              "      <td>4.7</td>\n",
              "      <td>rain</td>\n",
              "    </tr>\n",
              "    <tr>\n",
              "      <th>4</th>\n",
              "      <td>2012-01-05</td>\n",
              "      <td>1.3</td>\n",
              "      <td>8.9</td>\n",
              "      <td>2.8</td>\n",
              "      <td>6.1</td>\n",
              "      <td>rain</td>\n",
              "    </tr>\n",
              "    <tr>\n",
              "      <th>...</th>\n",
              "      <td>...</td>\n",
              "      <td>...</td>\n",
              "      <td>...</td>\n",
              "      <td>...</td>\n",
              "      <td>...</td>\n",
              "      <td>...</td>\n",
              "    </tr>\n",
              "    <tr>\n",
              "      <th>1456</th>\n",
              "      <td>2015-12-27</td>\n",
              "      <td>8.6</td>\n",
              "      <td>4.4</td>\n",
              "      <td>1.7</td>\n",
              "      <td>2.9</td>\n",
              "      <td>rain</td>\n",
              "    </tr>\n",
              "    <tr>\n",
              "      <th>1457</th>\n",
              "      <td>2015-12-28</td>\n",
              "      <td>1.5</td>\n",
              "      <td>5.0</td>\n",
              "      <td>1.7</td>\n",
              "      <td>1.3</td>\n",
              "      <td>rain</td>\n",
              "    </tr>\n",
              "    <tr>\n",
              "      <th>1458</th>\n",
              "      <td>2015-12-29</td>\n",
              "      <td>0.0</td>\n",
              "      <td>7.2</td>\n",
              "      <td>0.6</td>\n",
              "      <td>2.6</td>\n",
              "      <td>fog</td>\n",
              "    </tr>\n",
              "    <tr>\n",
              "      <th>1459</th>\n",
              "      <td>2015-12-30</td>\n",
              "      <td>0.0</td>\n",
              "      <td>5.6</td>\n",
              "      <td>-1.0</td>\n",
              "      <td>3.4</td>\n",
              "      <td>sun</td>\n",
              "    </tr>\n",
              "    <tr>\n",
              "      <th>1460</th>\n",
              "      <td>2015-12-31</td>\n",
              "      <td>0.0</td>\n",
              "      <td>5.6</td>\n",
              "      <td>-2.1</td>\n",
              "      <td>3.5</td>\n",
              "      <td>sun</td>\n",
              "    </tr>\n",
              "  </tbody>\n",
              "</table>\n",
              "<p>1461 rows × 6 columns</p>\n",
              "</div>\n",
              "      <button class=\"colab-df-convert\" onclick=\"convertToInteractive('df-f08bb755-08f2-4772-9cc7-5e822ed2f278')\"\n",
              "              title=\"Convert this dataframe to an interactive table.\"\n",
              "              style=\"display:none;\">\n",
              "        \n",
              "  <svg xmlns=\"http://www.w3.org/2000/svg\" height=\"24px\"viewBox=\"0 0 24 24\"\n",
              "       width=\"24px\">\n",
              "    <path d=\"M0 0h24v24H0V0z\" fill=\"none\"/>\n",
              "    <path d=\"M18.56 5.44l.94 2.06.94-2.06 2.06-.94-2.06-.94-.94-2.06-.94 2.06-2.06.94zm-11 1L8.5 8.5l.94-2.06 2.06-.94-2.06-.94L8.5 2.5l-.94 2.06-2.06.94zm10 10l.94 2.06.94-2.06 2.06-.94-2.06-.94-.94-2.06-.94 2.06-2.06.94z\"/><path d=\"M17.41 7.96l-1.37-1.37c-.4-.4-.92-.59-1.43-.59-.52 0-1.04.2-1.43.59L10.3 9.45l-7.72 7.72c-.78.78-.78 2.05 0 2.83L4 21.41c.39.39.9.59 1.41.59.51 0 1.02-.2 1.41-.59l7.78-7.78 2.81-2.81c.8-.78.8-2.07 0-2.86zM5.41 20L4 18.59l7.72-7.72 1.47 1.35L5.41 20z\"/>\n",
              "  </svg>\n",
              "      </button>\n",
              "      \n",
              "  <style>\n",
              "    .colab-df-container {\n",
              "      display:flex;\n",
              "      flex-wrap:wrap;\n",
              "      gap: 12px;\n",
              "    }\n",
              "\n",
              "    .colab-df-convert {\n",
              "      background-color: #E8F0FE;\n",
              "      border: none;\n",
              "      border-radius: 50%;\n",
              "      cursor: pointer;\n",
              "      display: none;\n",
              "      fill: #1967D2;\n",
              "      height: 32px;\n",
              "      padding: 0 0 0 0;\n",
              "      width: 32px;\n",
              "    }\n",
              "\n",
              "    .colab-df-convert:hover {\n",
              "      background-color: #E2EBFA;\n",
              "      box-shadow: 0px 1px 2px rgba(60, 64, 67, 0.3), 0px 1px 3px 1px rgba(60, 64, 67, 0.15);\n",
              "      fill: #174EA6;\n",
              "    }\n",
              "\n",
              "    [theme=dark] .colab-df-convert {\n",
              "      background-color: #3B4455;\n",
              "      fill: #D2E3FC;\n",
              "    }\n",
              "\n",
              "    [theme=dark] .colab-df-convert:hover {\n",
              "      background-color: #434B5C;\n",
              "      box-shadow: 0px 1px 3px 1px rgba(0, 0, 0, 0.15);\n",
              "      filter: drop-shadow(0px 1px 2px rgba(0, 0, 0, 0.3));\n",
              "      fill: #FFFFFF;\n",
              "    }\n",
              "  </style>\n",
              "\n",
              "      <script>\n",
              "        const buttonEl =\n",
              "          document.querySelector('#df-f08bb755-08f2-4772-9cc7-5e822ed2f278 button.colab-df-convert');\n",
              "        buttonEl.style.display =\n",
              "          google.colab.kernel.accessAllowed ? 'block' : 'none';\n",
              "\n",
              "        async function convertToInteractive(key) {\n",
              "          const element = document.querySelector('#df-f08bb755-08f2-4772-9cc7-5e822ed2f278');\n",
              "          const dataTable =\n",
              "            await google.colab.kernel.invokeFunction('convertToInteractive',\n",
              "                                                     [key], {});\n",
              "          if (!dataTable) return;\n",
              "\n",
              "          const docLinkHtml = 'Like what you see? Visit the ' +\n",
              "            '<a target=\"_blank\" href=https://colab.research.google.com/notebooks/data_table.ipynb>data table notebook</a>'\n",
              "            + ' to learn more about interactive tables.';\n",
              "          element.innerHTML = '';\n",
              "          dataTable['output_type'] = 'display_data';\n",
              "          await google.colab.output.renderOutput(dataTable, element);\n",
              "          const docLink = document.createElement('div');\n",
              "          docLink.innerHTML = docLinkHtml;\n",
              "          element.appendChild(docLink);\n",
              "        }\n",
              "      </script>\n",
              "    </div>\n",
              "  </div>\n",
              "  "
            ]
          },
          "metadata": {},
          "execution_count": 1
        }
      ],
      "source": [
        "import pandas as pd\n",
        "df = pd.read_csv(\"/content/seattle-weather (1).csv\")\n",
        "df"
      ]
    },
    {
      "cell_type": "code",
      "source": [
        "df.info()"
      ],
      "metadata": {
        "colab": {
          "base_uri": "https://localhost:8080/"
        },
        "id": "x-dyY-Mleg-d",
        "outputId": "da4d8e11-76e9-4ac4-b824-19c74cefa9ee"
      },
      "execution_count": null,
      "outputs": [
        {
          "output_type": "stream",
          "name": "stdout",
          "text": [
            "<class 'pandas.core.frame.DataFrame'>\n",
            "RangeIndex: 1461 entries, 0 to 1460\n",
            "Data columns (total 6 columns):\n",
            " #   Column         Non-Null Count  Dtype  \n",
            "---  ------         --------------  -----  \n",
            " 0   date           1461 non-null   object \n",
            " 1   precipitation  1461 non-null   float64\n",
            " 2   temp_max       1461 non-null   float64\n",
            " 3   temp_min       1461 non-null   float64\n",
            " 4   wind           1461 non-null   float64\n",
            " 5   weather        1461 non-null   object \n",
            "dtypes: float64(4), object(2)\n",
            "memory usage: 68.6+ KB\n"
          ]
        }
      ]
    },
    {
      "cell_type": "code",
      "source": [
        "x = df.iloc[:,1:5].values\n",
        "x"
      ],
      "metadata": {
        "colab": {
          "base_uri": "https://localhost:8080/"
        },
        "id": "Ckv2tfdYemjJ",
        "outputId": "8a44d95c-70ef-4640-94e1-5dc31418fa90"
      },
      "execution_count": null,
      "outputs": [
        {
          "output_type": "execute_result",
          "data": {
            "text/plain": [
              "array([[ 0. , 12.8,  5. ,  4.7],\n",
              "       [10.9, 10.6,  2.8,  4.5],\n",
              "       [ 0.8, 11.7,  7.2,  2.3],\n",
              "       ...,\n",
              "       [ 0. ,  7.2,  0.6,  2.6],\n",
              "       [ 0. ,  5.6, -1. ,  3.4],\n",
              "       [ 0. ,  5.6, -2.1,  3.5]])"
            ]
          },
          "metadata": {},
          "execution_count": 3
        }
      ]
    },
    {
      "cell_type": "code",
      "source": [
        "y=df.iloc[:,5].values\n",
        "y"
      ],
      "metadata": {
        "colab": {
          "base_uri": "https://localhost:8080/"
        },
        "id": "3J9iyx4Me_i_",
        "outputId": "e7959edf-e25a-4d84-8091-91493e894290"
      },
      "execution_count": null,
      "outputs": [
        {
          "output_type": "execute_result",
          "data": {
            "text/plain": [
              "array(['drizzle', 'rain', 'rain', ..., 'fog', 'sun', 'sun'], dtype=object)"
            ]
          },
          "metadata": {},
          "execution_count": 13
        }
      ]
    },
    {
      "cell_type": "code",
      "source": [
        "from sklearn.model_selection import train_test_split\n",
        "x_train,x_test,y_train,y_test = train_test_split(x,y,random_state = 0)"
      ],
      "metadata": {
        "id": "tjyTd2tjfK3g"
      },
      "execution_count": null,
      "outputs": []
    },
    {
      "cell_type": "code",
      "source": [
        "from sklearn.linear_model import LogisticRegression\n",
        "model = LogisticRegression()\n",
        "model.fit(x_train,y_train)"
      ],
      "metadata": {
        "colab": {
          "base_uri": "https://localhost:8080/"
        },
        "id": "SjELa0w5fu1P",
        "outputId": "c3ffcef2-b33f-433f-ff65-ee4e226236a3"
      },
      "execution_count": null,
      "outputs": [
        {
          "output_type": "stream",
          "name": "stderr",
          "text": [
            "/usr/local/lib/python3.7/dist-packages/sklearn/linear_model/_logistic.py:818: ConvergenceWarning: lbfgs failed to converge (status=1):\n",
            "STOP: TOTAL NO. of ITERATIONS REACHED LIMIT.\n",
            "\n",
            "Increase the number of iterations (max_iter) or scale the data as shown in:\n",
            "    https://scikit-learn.org/stable/modules/preprocessing.html\n",
            "Please also refer to the documentation for alternative solver options:\n",
            "    https://scikit-learn.org/stable/modules/linear_model.html#logistic-regression\n",
            "  extra_warning_msg=_LOGISTIC_SOLVER_CONVERGENCE_MSG,\n"
          ]
        },
        {
          "output_type": "execute_result",
          "data": {
            "text/plain": [
              "LogisticRegression()"
            ]
          },
          "metadata": {},
          "execution_count": 17
        }
      ]
    },
    {
      "cell_type": "code",
      "source": [
        "y_pred = model.predict(x_test)\n",
        "y_pred "
      ],
      "metadata": {
        "colab": {
          "base_uri": "https://localhost:8080/"
        },
        "id": "4rzDQDshfyWs",
        "outputId": "8854a4fc-95a0-403c-8b83-e88d63ed7fbe"
      },
      "execution_count": null,
      "outputs": [
        {
          "output_type": "execute_result",
          "data": {
            "text/plain": [
              "array(['sun', 'sun', 'rain', 'sun', 'sun', 'rain', 'rain', 'rain', 'sun',\n",
              "       'rain', 'sun', 'rain', 'sun', 'sun', 'sun', 'sun', 'sun', 'rain',\n",
              "       'rain', 'rain', 'rain', 'rain', 'rain', 'sun', 'sun', 'sun', 'sun',\n",
              "       'rain', 'sun', 'sun', 'rain', 'sun', 'rain', 'rain', 'sun', 'rain',\n",
              "       'sun', 'rain', 'sun', 'rain', 'sun', 'rain', 'rain', 'rain', 'sun',\n",
              "       'sun', 'sun', 'sun', 'sun', 'sun', 'sun', 'sun', 'sun', 'rain',\n",
              "       'rain', 'sun', 'sun', 'rain', 'sun', 'rain', 'sun', 'sun', 'sun',\n",
              "       'sun', 'sun', 'rain', 'sun', 'sun', 'sun', 'rain', 'rain', 'rain',\n",
              "       'rain', 'sun', 'sun', 'sun', 'sun', 'sun', 'rain', 'rain', 'sun',\n",
              "       'sun', 'rain', 'rain', 'rain', 'sun', 'sun', 'rain', 'sun', 'rain',\n",
              "       'sun', 'sun', 'rain', 'sun', 'rain', 'snow', 'sun', 'sun', 'sun',\n",
              "       'sun', 'rain', 'sun', 'sun', 'rain', 'rain', 'sun', 'rain', 'rain',\n",
              "       'sun', 'sun', 'rain', 'sun', 'rain', 'sun', 'sun', 'sun', 'sun',\n",
              "       'sun', 'rain', 'rain', 'sun', 'rain', 'rain', 'sun', 'rain', 'sun',\n",
              "       'sun', 'sun', 'sun', 'rain', 'sun', 'rain', 'sun', 'rain', 'rain',\n",
              "       'rain', 'sun', 'sun', 'sun', 'sun', 'rain', 'rain', 'sun', 'sun',\n",
              "       'sun', 'rain', 'rain', 'sun', 'sun', 'sun', 'sun', 'sun', 'sun',\n",
              "       'rain', 'sun', 'rain', 'sun', 'sun', 'rain', 'sun', 'sun', 'sun',\n",
              "       'rain', 'sun', 'rain', 'rain', 'sun', 'rain', 'rain', 'rain',\n",
              "       'sun', 'sun', 'sun', 'sun', 'rain', 'rain', 'sun', 'sun', 'sun',\n",
              "       'sun', 'sun', 'sun', 'rain', 'sun', 'rain', 'sun', 'sun', 'sun',\n",
              "       'rain', 'sun', 'sun', 'sun', 'sun', 'sun', 'rain', 'rain', 'sun',\n",
              "       'sun', 'sun', 'sun', 'rain', 'sun', 'sun', 'sun', 'rain', 'rain',\n",
              "       'rain', 'sun', 'sun', 'rain', 'snow', 'rain', 'rain', 'rain',\n",
              "       'sun', 'sun', 'sun', 'rain', 'rain', 'rain', 'sun', 'sun', 'sun',\n",
              "       'rain', 'sun', 'sun', 'sun', 'sun', 'rain', 'sun', 'sun', 'rain',\n",
              "       'rain', 'rain', 'rain', 'sun', 'rain', 'sun', 'rain', 'rain',\n",
              "       'sun', 'rain', 'sun', 'rain', 'rain', 'sun', 'rain', 'sun', 'sun',\n",
              "       'sun', 'sun', 'sun', 'rain', 'rain', 'sun', 'sun', 'sun', 'sun',\n",
              "       'sun', 'sun', 'rain', 'sun', 'sun', 'sun', 'sun', 'rain', 'sun',\n",
              "       'rain', 'sun', 'sun', 'sun', 'sun', 'rain', 'rain', 'sun', 'sun',\n",
              "       'sun', 'sun', 'rain', 'sun', 'rain', 'rain', 'rain', 'sun', 'sun',\n",
              "       'sun', 'rain', 'sun', 'rain', 'sun', 'sun', 'rain', 'sun', 'rain',\n",
              "       'sun', 'rain', 'rain', 'sun', 'rain', 'sun', 'rain', 'sun', 'sun',\n",
              "       'sun', 'rain', 'sun', 'sun', 'rain', 'rain', 'sun', 'rain', 'sun',\n",
              "       'rain', 'rain', 'sun', 'sun', 'rain', 'rain', 'rain', 'sun',\n",
              "       'rain', 'sun', 'rain', 'rain', 'sun', 'sun', 'rain', 'rain',\n",
              "       'rain', 'sun', 'sun', 'rain', 'sun', 'sun', 'rain', 'sun', 'sun',\n",
              "       'sun', 'rain', 'sun', 'sun', 'sun', 'sun', 'rain', 'sun', 'sun',\n",
              "       'rain', 'rain', 'sun', 'rain', 'sun', 'sun', 'sun', 'sun', 'rain',\n",
              "       'sun', 'sun', 'rain', 'sun', 'sun', 'sun', 'rain', 'sun', 'rain',\n",
              "       'rain', 'sun'], dtype=object)"
            ]
          },
          "metadata": {},
          "execution_count": 18
        }
      ]
    },
    {
      "cell_type": "code",
      "source": [
        "y_test"
      ],
      "metadata": {
        "colab": {
          "base_uri": "https://localhost:8080/"
        },
        "id": "v5R1YSYefyaI",
        "outputId": "43a242e7-eda7-4ecf-d385-d0c0dfc5d836"
      },
      "execution_count": null,
      "outputs": [
        {
          "output_type": "execute_result",
          "data": {
            "text/plain": [
              "array(['sun', 'sun', 'rain', 'sun', 'sun', 'rain', 'rain', 'rain', 'fog',\n",
              "       'rain', 'sun', 'rain', 'fog', 'sun', 'sun', 'sun', 'sun', 'rain',\n",
              "       'rain', 'rain', 'rain', 'rain', 'rain', 'sun', 'sun', 'fog', 'fog',\n",
              "       'rain', 'fog', 'sun', 'rain', 'sun', 'rain', 'rain', 'sun', 'rain',\n",
              "       'sun', 'rain', 'fog', 'rain', 'drizzle', 'rain', 'rain', 'rain',\n",
              "       'drizzle', 'fog', 'fog', 'rain', 'sun', 'sun', 'sun', 'sun', 'sun',\n",
              "       'rain', 'rain', 'sun', 'sun', 'rain', 'sun', 'rain', 'sun', 'fog',\n",
              "       'sun', 'sun', 'sun', 'rain', 'sun', 'sun', 'sun', 'rain', 'rain',\n",
              "       'rain', 'rain', 'sun', 'fog', 'sun', 'sun', 'sun', 'rain', 'rain',\n",
              "       'fog', 'sun', 'rain', 'rain', 'rain', 'sun', 'fog', 'rain', 'sun',\n",
              "       'rain', 'sun', 'drizzle', 'rain', 'sun', 'rain', 'snow', 'sun',\n",
              "       'sun', 'sun', 'rain', 'rain', 'rain', 'rain', 'rain', 'snow',\n",
              "       'drizzle', 'rain', 'rain', 'sun', 'sun', 'rain', 'sun', 'rain',\n",
              "       'rain', 'sun', 'sun', 'sun', 'sun', 'rain', 'rain', 'rain', 'rain',\n",
              "       'rain', 'sun', 'rain', 'rain', 'sun', 'drizzle', 'sun', 'rain',\n",
              "       'rain', 'rain', 'sun', 'rain', 'rain', 'rain', 'sun', 'sun', 'sun',\n",
              "       'sun', 'rain', 'rain', 'sun', 'sun', 'sun', 'rain', 'rain', 'sun',\n",
              "       'drizzle', 'sun', 'rain', 'fog', 'sun', 'rain', 'sun', 'rain',\n",
              "       'sun', 'sun', 'rain', 'fog', 'sun', 'sun', 'rain', 'sun', 'rain',\n",
              "       'rain', 'sun', 'rain', 'rain', 'rain', 'fog', 'fog', 'sun', 'sun',\n",
              "       'rain', 'rain', 'fog', 'sun', 'sun', 'sun', 'sun', 'sun', 'rain',\n",
              "       'rain', 'rain', 'sun', 'sun', 'fog', 'rain', 'sun', 'sun', 'sun',\n",
              "       'fog', 'drizzle', 'rain', 'rain', 'sun', 'fog', 'sun', 'drizzle',\n",
              "       'snow', 'sun', 'sun', 'sun', 'rain', 'rain', 'rain', 'fog', 'sun',\n",
              "       'sun', 'snow', 'rain', 'rain', 'rain', 'sun', 'fog', 'fog', 'rain',\n",
              "       'rain', 'rain', 'drizzle', 'sun', 'sun', 'rain', 'fog', 'sun',\n",
              "       'sun', 'sun', 'rain', 'sun', 'sun', 'rain', 'rain', 'rain', 'rain',\n",
              "       'sun', 'rain', 'fog', 'rain', 'rain', 'rain', 'rain', 'sun',\n",
              "       'rain', 'rain', 'sun', 'rain', 'fog', 'sun', 'fog', 'sun',\n",
              "       'drizzle', 'rain', 'snow', 'sun', 'sun', 'sun', 'sun', 'sun',\n",
              "       'sun', 'snow', 'sun', 'fog', 'sun', 'sun', 'rain', 'sun', 'rain',\n",
              "       'sun', 'fog', 'sun', 'sun', 'rain', 'rain', 'sun', 'sun', 'rain',\n",
              "       'sun', 'rain', 'sun', 'rain', 'rain', 'rain', 'sun', 'sun', 'sun',\n",
              "       'rain', 'rain', 'rain', 'sun', 'sun', 'rain', 'sun', 'rain', 'sun',\n",
              "       'rain', 'rain', 'sun', 'rain', 'sun', 'rain', 'sun', 'sun', 'sun',\n",
              "       'rain', 'sun', 'sun', 'rain', 'rain', 'drizzle', 'rain', 'fog',\n",
              "       'rain', 'rain', 'sun', 'sun', 'rain', 'rain', 'rain', 'sun',\n",
              "       'rain', 'sun', 'rain', 'rain', 'sun', 'sun', 'rain', 'rain',\n",
              "       'rain', 'sun', 'sun', 'rain', 'sun', 'sun', 'rain', 'sun', 'sun',\n",
              "       'sun', 'rain', 'sun', 'sun', 'sun', 'sun', 'rain', 'sun', 'sun',\n",
              "       'rain', 'rain', 'sun', 'rain', 'sun', 'sun', 'sun', 'sun', 'rain',\n",
              "       'sun', 'sun', 'rain', 'sun', 'sun', 'sun', 'rain', 'fog', 'rain',\n",
              "       'rain', 'sun'], dtype=object)"
            ]
          },
          "metadata": {},
          "execution_count": 20
        }
      ]
    },
    {
      "cell_type": "code",
      "source": [
        "from sklearn.metrics import accuracy_score\n",
        "accuracy_score(y_pred,y_test)* 100"
      ],
      "metadata": {
        "colab": {
          "base_uri": "https://localhost:8080/"
        },
        "id": "p0Al9srihXzq",
        "outputId": "c6dc5749-2c10-4d47-eb1f-f72a0fabfd2e"
      },
      "execution_count": null,
      "outputs": [
        {
          "output_type": "execute_result",
          "data": {
            "text/plain": [
              "83.60655737704919"
            ]
          },
          "metadata": {},
          "execution_count": 21
        }
      ]
    },
    {
      "cell_type": "code",
      "source": [
        "import joblib\n",
        "joblib.dump(model,'weather prediction')"
      ],
      "metadata": {
        "colab": {
          "base_uri": "https://localhost:8080/"
        },
        "id": "fYyhoyQBiAUt",
        "outputId": "5f5851be-64e4-4ab1-b121-6403e92fe9d9"
      },
      "execution_count": null,
      "outputs": [
        {
          "output_type": "execute_result",
          "data": {
            "text/plain": [
              "['weather prediction']"
            ]
          },
          "metadata": {},
          "execution_count": 22
        }
      ]
    },
    {
      "cell_type": "code",
      "source": [
        "!pip install streamlit --quiet"
      ],
      "metadata": {
        "id": "GAbxzdEQi5SM"
      },
      "execution_count": null,
      "outputs": []
    },
    {
      "cell_type": "code",
      "source": [
        "%%writefile app.py\n",
        "#%%writefile app.py is a magic command which creates a file named app.py\n",
        "import streamlit as st\n",
        "import joblib\n",
        "import numpy as np\n",
        "model = joblib .load('weather prediction')\n",
        "st.title('WEATHER PREDICTION')\n",
        "st.write(\"this is a app to predict the weather condition in a certain region by getting details of the xweather\")\n",
        "ip1 = st.number_input('Enter the precipitation')\n",
        "ip2 = st.number_input('Enter the temp_max')\n",
        "ip3 = st.number_input('Enter the temp_min')\n",
        "ip4 = st.number_input('Enter the wind')\n",
        "ls1=np.append(ip1,ip2)\n",
        "ls2=np.append(ip3,ip4)\n",
        "ls=np.append(ls1,ls2)\n",
        "op = model.predict([ls])\n",
        "if st.button('Predict'):\n",
        "  st.title(op[0]) "
      ],
      "metadata": {
        "colab": {
          "base_uri": "https://localhost:8080/"
        },
        "id": "sV7genZdjBYu",
        "outputId": "a0d755e5-dcd4-4818-f01b-f2c339cc0d9c"
      },
      "execution_count": null,
      "outputs": [
        {
          "output_type": "stream",
          "name": "stdout",
          "text": [
            "Overwriting app.py\n"
          ]
        }
      ]
    },
    {
      "cell_type": "code",
      "source": [
        "!streamlit run app.py & npx localtunnel --port 8501"
      ],
      "metadata": {
        "colab": {
          "base_uri": "https://localhost:8080/"
        },
        "id": "AGrdiD4AqDDn",
        "outputId": "9b2e18f2-be49-4d1b-cc07-41237206e7bc"
      },
      "execution_count": null,
      "outputs": [
        {
          "output_type": "stream",
          "name": "stdout",
          "text": [
            "2022-07-10 06:35:24.510 INFO    numexpr.utils: NumExpr defaulting to 2 threads.\n",
            "\u001b[K\u001b[?25hnpx: installed 22 in 3.154s\n",
            "your url is: https://sixty-zoos-listen-34-73-51-98.loca.lt\n",
            "\u001b[0m\n",
            "\u001b[34m\u001b[1m  You can now view your Streamlit app in your browser.\u001b[0m\n",
            "\u001b[0m\n",
            "\u001b[34m  Network URL: \u001b[0m\u001b[1mhttp://172.28.0.2:8501\u001b[0m\n",
            "\u001b[34m  External URL: \u001b[0m\u001b[1mhttp://34.73.51.98:8501\u001b[0m\n",
            "\u001b[0m\n"
          ]
        }
      ]
    },
    {
      "cell_type": "code",
      "source": [
        ""
      ],
      "metadata": {
        "id": "s_VMgZr-zjTU"
      },
      "execution_count": null,
      "outputs": []
    }
  ]
}